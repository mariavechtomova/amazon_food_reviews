{
 "cells": [
  {
   "cell_type": "code",
   "execution_count": 1,
   "metadata": {
    "collapsed": false,
    "deletable": true,
    "editable": true
   },
   "outputs": [],
   "source": [
    "import pickle\n",
    "\n",
    "import pandas as pd\n",
    "from helpers import *\n",
    "\n",
    "import matplotlib.pyplot as plt\n",
    "import seaborn as sns\n",
    "%matplotlib inline\n",
    "\n",
    "import numpy as np\n",
    "\n",
    "from nltk.corpus import stopwords\n",
    "from nltk.stem.porter import PorterStemmer\n",
    "import nltk\n",
    "\n",
    "import scipy\n",
    "from sklearn.feature_extraction.text import TfidfVectorizer\n",
    "from sklearn.naive_bayes import MultinomialNB"
   ]
  },
  {
   "cell_type": "code",
   "execution_count": 2,
   "metadata": {
    "collapsed": true,
    "deletable": true,
    "editable": true
   },
   "outputs": [],
   "source": [
    "from sklearn.metrics import precision_score\n",
    "from sklearn.metrics import recall_score\n",
    "from sklearn.metrics import f1_score\n",
    "from sklearn.metrics import accuracy_score \n",
    "from sklearn.metrics import confusion_matrix"
   ]
  },
  {
   "cell_type": "markdown",
   "metadata": {
    "deletable": true,
    "editable": true
   },
   "source": [
    "## Load dataset"
   ]
  },
  {
   "cell_type": "code",
   "execution_count": 3,
   "metadata": {
    "collapsed": false,
    "deletable": true,
    "editable": true
   },
   "outputs": [],
   "source": [
    "with open('../data/prepared_data.pickle', 'rb') as data:\n",
    "    data_dic = pickle.load(data)"
   ]
  },
  {
   "cell_type": "code",
   "execution_count": 4,
   "metadata": {
    "collapsed": true,
    "deletable": true,
    "editable": true
   },
   "outputs": [],
   "source": [
    "train = data_dic['sample_df']['train']\n",
    "test  = data_dic['sample_df']['test']\n",
    "valid = data_dic['sample_df']['valid']"
   ]
  },
  {
   "cell_type": "markdown",
   "metadata": {
    "deletable": true,
    "editable": true
   },
   "source": [
    "## Baseline model"
   ]
  },
  {
   "cell_type": "code",
   "execution_count": 5,
   "metadata": {
    "collapsed": false,
    "deletable": true,
    "editable": true
   },
   "outputs": [],
   "source": [
    "stemmer = PorterStemmer()\n",
    "\n",
    "def stem_tokens(text, stemmer=stemmer):\n",
    "    tokens = nltk.word_tokenize(text)\n",
    "    #tokens = [word for word in tokens if word not in stopwords.words('english')]\n",
    "    stemmed = list(map(lambda x: stemmer.stem(x), tokens))\n",
    "    return ' '.join(stemmed)"
   ]
  },
  {
   "cell_type": "code",
   "execution_count": 6,
   "metadata": {
    "collapsed": false,
    "deletable": true,
    "editable": true
   },
   "outputs": [],
   "source": [
    "train['text'] = train['text'].apply(lambda x: stem_tokens(x))\n",
    "test ['text'] = test['text'].apply(lambda x: stem_tokens(x))\n",
    "valid['text'] = valid['text'].apply(lambda x: stem_tokens(x))"
   ]
  },
  {
   "cell_type": "code",
   "execution_count": 7,
   "metadata": {
    "collapsed": false,
    "deletable": true,
    "editable": true
   },
   "outputs": [],
   "source": [
    "vectorizer = TfidfVectorizer( max_features = 40000,\n",
    "                              ngram_range = ( 2, 3),\n",
    "                              sublinear_tf = True)\n",
    "\n",
    "tfidf = vectorizer.fit_transform(train[\"text\"].tolist())\n",
    "feature_names = vectorizer.get_feature_names()"
   ]
  },
  {
   "cell_type": "code",
   "execution_count": 8,
   "metadata": {
    "collapsed": true,
    "deletable": true,
    "editable": true
   },
   "outputs": [],
   "source": [
    "def get_n_typical_words(indices,n):\n",
    "    dense = tfidf.todense()\n",
    "    \n",
    "    x=list()\n",
    "    for i in indices:\n",
    "        x.append((dense[i]))\n",
    "        \n",
    "    dense1=np.vstack(x)\n",
    "    \n",
    "    text = np.mean(dense1, axis=0).tolist()[0]\n",
    "    phrase_scores = [pair for pair in zip(range(0, len((text))), text)]    \n",
    "    sorted_phrase_scores = sorted(phrase_scores, key=lambda t: t[1] * -1)\n",
    "    for phrase, score in [(feature_names[word_id], score) for (word_id, score) in sorted_phrase_scores][:n]:\n",
    "        print('{0: <20} {1}'.format(phrase, score))"
   ]
  },
  {
   "cell_type": "code",
   "execution_count": null,
   "metadata": {
    "collapsed": false,
    "deletable": true,
    "editable": true
   },
   "outputs": [
    {
     "name": "stdout",
     "output_type": "stream",
     "text": [
      "thi product          0.01197494245907462\n",
      "of the               0.01075732133279488\n",
      "it wa                0.009890409329617034\n",
      "in the               0.009787350115405722\n",
      "it is                0.009038507882953592\n",
      "at all               0.007674663542569006\n",
      "on the               0.007663317242389606\n",
      "and the              0.007270087396399754\n",
      "is not               0.007222589652192479\n",
      "did not              0.007127918482168111\n",
      "do not               0.007086543551265832\n",
      "and it               0.00691181829891982\n",
      "the product          0.006547978806706766\n",
      "doe not              0.006530855979233705\n",
      "would not            0.006395957307088153\n",
      "to be                0.006255088639550243\n",
      "to the               0.006190764382456677\n",
      "if you               0.006075925383968358\n",
      "thi is               0.006046358480545815\n",
      "but it               0.005819082549833437\n"
     ]
    }
   ],
   "source": [
    "negative_indices=list()\n",
    "for i,e in enumerate(train[\"negative\"].tolist()):\n",
    "    if e==1:\n",
    "        negative_indices.append(i)\n",
    "\n",
    "get_n_typical_words(negative_indices,20)"
   ]
  },
  {
   "cell_type": "code",
   "execution_count": null,
   "metadata": {
    "collapsed": false,
    "deletable": true,
    "editable": true
   },
   "outputs": [],
   "source": [
    "positive_indices=list()\n",
    "for i,e in enumerate(train[\"negative\"].tolist()):\n",
    "    if e==0:\n",
    "        positive_indices.append(i)\n",
    "\n",
    "get_n_typical_words(positive_indices,20)"
   ]
  },
  {
   "cell_type": "code",
   "execution_count": null,
   "metadata": {
    "collapsed": false,
    "deletable": true,
    "editable": true
   },
   "outputs": [],
   "source": [
    "train_data_features=tfidf.toarray()\n",
    "model = MultinomialNB() \n",
    "nb = model.fit(train_data_features, train[\"cat2_num\"] )"
   ]
  },
  {
   "cell_type": "code",
   "execution_count": null,
   "metadata": {
    "collapsed": true,
    "deletable": true,
    "editable": true
   },
   "outputs": [],
   "source": [
    "test_data_features = vectorizer.transform(test[\"text\"].tolist()).toarray()\n",
    "result = nb.predict(test_data_features)"
   ]
  },
  {
   "cell_type": "code",
   "execution_count": 15,
   "metadata": {
    "collapsed": false,
    "deletable": true,
    "editable": true
   },
   "outputs": [
    {
     "name": "stdout",
     "output_type": "stream",
     "text": [
      "Test accuracy: 41.1%\n"
     ]
    },
    {
     "data": {
      "text/plain": [
       "array([[ 588,   74,    0, ...,    0,    0,    0],\n",
       "       [   2,    0,    0, ...,    0,    0,    0],\n",
       "       [1903,  189,    0, ...,    0,    0,    0],\n",
       "       ..., \n",
       "       [ 176,    3,    0, ...,    0,    0,    0],\n",
       "       [   2,    0,    0, ...,    0,    0,    0],\n",
       "       [   6,    2,    0, ...,    0,    0,    0]])"
      ]
     },
     "execution_count": 15,
     "metadata": {},
     "output_type": "execute_result"
    }
   ],
   "source": [
    "print(\"Test accuracy: %.1f%%\" % (100*accuracy_score(result,test[\"cat2_num\"])))\n",
    "confusion_matrix(result,test[\"negative\"])"
   ]
  }
 ],
 "metadata": {
  "kernelspec": {
   "display_name": "Python 3",
   "language": "python",
   "name": "python3"
  },
  "language_info": {
   "codemirror_mode": {
    "name": "ipython",
    "version": 3
   },
   "file_extension": ".py",
   "mimetype": "text/x-python",
   "name": "python",
   "nbconvert_exporter": "python",
   "pygments_lexer": "ipython3",
   "version": "3.5.2"
  }
 },
 "nbformat": 4,
 "nbformat_minor": 2
}
